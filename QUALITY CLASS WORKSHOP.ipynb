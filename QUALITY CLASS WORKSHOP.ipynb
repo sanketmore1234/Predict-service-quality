{
 "cells": [
  {
   "cell_type": "code",
   "execution_count": 1,
   "id": "6df2440d",
   "metadata": {},
   "outputs": [],
   "source": [
    "# Code by Sanket More\n",
    "# Regression Example\n",
    "# Not using standard models\n",
    "# Uses ski kit learn"
   ]
  },
  {
   "cell_type": "code",
   "execution_count": 1,
   "id": "7881419e",
   "metadata": {},
   "outputs": [],
   "source": [
    "import pandas as pd\n",
    "import numpy as np\n",
    "from sklearn.linear_model import RidgeClassifier, LogisticRegression\n",
    "from sklearn.metrics import accuracy_score\n",
    "from sklearn.metrics import classification_report\n",
    "from sklearn.metrics import confusion_matrix\n",
    "from  sklearn.preprocessing import StandardScaler\n",
    "from sklearn.model_selection import train_test_split, GridSearchCV\n",
    "import matplotlib.pyplot as plt\n",
    "from sklearn.ensemble import RandomForestClassifier"
   ]
  },
  {
   "cell_type": "code",
   "execution_count": 4,
   "id": "b7497a16",
   "metadata": {},
   "outputs": [],
   "source": [
    "#step 1 \n",
    "#read csv\n",
    "df = pd.read_csv(\"quality.csv\")"
   ]
  },
  {
   "cell_type": "code",
   "execution_count": 5,
   "id": "fe4bb7db",
   "metadata": {
    "scrolled": true
   },
   "outputs": [
    {
     "data": {
      "text/html": [
       "<div>\n",
       "<style scoped>\n",
       "    .dataframe tbody tr th:only-of-type {\n",
       "        vertical-align: middle;\n",
       "    }\n",
       "\n",
       "    .dataframe tbody tr th {\n",
       "        vertical-align: top;\n",
       "    }\n",
       "\n",
       "    .dataframe thead th {\n",
       "        text-align: right;\n",
       "    }\n",
       "</style>\n",
       "<table border=\"1\" class=\"dataframe\">\n",
       "  <thead>\n",
       "    <tr style=\"text-align: right;\">\n",
       "      <th></th>\n",
       "      <th>MemberID</th>\n",
       "      <th>InpatientDays</th>\n",
       "      <th>ERVisits</th>\n",
       "      <th>OfficeVisits</th>\n",
       "      <th>Narcotics</th>\n",
       "      <th>DaysSinceLastERVisit</th>\n",
       "      <th>Pain</th>\n",
       "      <th>TotalVisits</th>\n",
       "      <th>ProviderCount</th>\n",
       "      <th>MedicalClaims</th>\n",
       "      <th>ClaimLines</th>\n",
       "      <th>StartedOnCombination</th>\n",
       "      <th>AcuteDrugGapSmall</th>\n",
       "      <th>PoorCare</th>\n",
       "    </tr>\n",
       "  </thead>\n",
       "  <tbody>\n",
       "    <tr>\n",
       "      <th>0</th>\n",
       "      <td>1</td>\n",
       "      <td>0</td>\n",
       "      <td>0</td>\n",
       "      <td>18</td>\n",
       "      <td>1</td>\n",
       "      <td>731.0</td>\n",
       "      <td>10</td>\n",
       "      <td>18</td>\n",
       "      <td>21</td>\n",
       "      <td>93</td>\n",
       "      <td>222</td>\n",
       "      <td>False</td>\n",
       "      <td>0</td>\n",
       "      <td>0</td>\n",
       "    </tr>\n",
       "    <tr>\n",
       "      <th>1</th>\n",
       "      <td>2</td>\n",
       "      <td>1</td>\n",
       "      <td>1</td>\n",
       "      <td>6</td>\n",
       "      <td>1</td>\n",
       "      <td>411.0</td>\n",
       "      <td>0</td>\n",
       "      <td>8</td>\n",
       "      <td>27</td>\n",
       "      <td>19</td>\n",
       "      <td>115</td>\n",
       "      <td>False</td>\n",
       "      <td>1</td>\n",
       "      <td>0</td>\n",
       "    </tr>\n",
       "    <tr>\n",
       "      <th>2</th>\n",
       "      <td>3</td>\n",
       "      <td>0</td>\n",
       "      <td>0</td>\n",
       "      <td>5</td>\n",
       "      <td>3</td>\n",
       "      <td>731.0</td>\n",
       "      <td>10</td>\n",
       "      <td>5</td>\n",
       "      <td>16</td>\n",
       "      <td>27</td>\n",
       "      <td>148</td>\n",
       "      <td>False</td>\n",
       "      <td>5</td>\n",
       "      <td>0</td>\n",
       "    </tr>\n",
       "    <tr>\n",
       "      <th>3</th>\n",
       "      <td>4</td>\n",
       "      <td>0</td>\n",
       "      <td>1</td>\n",
       "      <td>19</td>\n",
       "      <td>0</td>\n",
       "      <td>158.0</td>\n",
       "      <td>34</td>\n",
       "      <td>20</td>\n",
       "      <td>14</td>\n",
       "      <td>59</td>\n",
       "      <td>242</td>\n",
       "      <td>False</td>\n",
       "      <td>0</td>\n",
       "      <td>0</td>\n",
       "    </tr>\n",
       "    <tr>\n",
       "      <th>4</th>\n",
       "      <td>5</td>\n",
       "      <td>8</td>\n",
       "      <td>2</td>\n",
       "      <td>19</td>\n",
       "      <td>3</td>\n",
       "      <td>449.0</td>\n",
       "      <td>10</td>\n",
       "      <td>29</td>\n",
       "      <td>24</td>\n",
       "      <td>51</td>\n",
       "      <td>204</td>\n",
       "      <td>False</td>\n",
       "      <td>0</td>\n",
       "      <td>0</td>\n",
       "    </tr>\n",
       "  </tbody>\n",
       "</table>\n",
       "</div>"
      ],
      "text/plain": [
       "   MemberID  InpatientDays  ERVisits  OfficeVisits  Narcotics  \\\n",
       "0         1              0         0            18          1   \n",
       "1         2              1         1             6          1   \n",
       "2         3              0         0             5          3   \n",
       "3         4              0         1            19          0   \n",
       "4         5              8         2            19          3   \n",
       "\n",
       "   DaysSinceLastERVisit  Pain  TotalVisits  ProviderCount  MedicalClaims  \\\n",
       "0                 731.0    10           18             21             93   \n",
       "1                 411.0     0            8             27             19   \n",
       "2                 731.0    10            5             16             27   \n",
       "3                 158.0    34           20             14             59   \n",
       "4                 449.0    10           29             24             51   \n",
       "\n",
       "   ClaimLines  StartedOnCombination  AcuteDrugGapSmall  PoorCare  \n",
       "0         222                 False                  0         0  \n",
       "1         115                 False                  1         0  \n",
       "2         148                 False                  5         0  \n",
       "3         242                 False                  0         0  \n",
       "4         204                 False                  0         0  "
      ]
     },
     "execution_count": 5,
     "metadata": {},
     "output_type": "execute_result"
    }
   ],
   "source": [
    "df.head() #displays top rows"
   ]
  },
  {
   "cell_type": "code",
   "execution_count": 6,
   "id": "77ee6275",
   "metadata": {},
   "outputs": [],
   "source": [
    "df = df.drop(\"MemberID\", axis=1) \n",
    "#drops mentioned column, by default python tries to operate on row level\n",
    "#to make sure that it drops column axis=1 has to be used. "
   ]
  },
  {
   "cell_type": "code",
   "execution_count": 7,
   "id": "ea8a3af1",
   "metadata": {},
   "outputs": [
    {
     "data": {
      "text/html": [
       "<div>\n",
       "<style scoped>\n",
       "    .dataframe tbody tr th:only-of-type {\n",
       "        vertical-align: middle;\n",
       "    }\n",
       "\n",
       "    .dataframe tbody tr th {\n",
       "        vertical-align: top;\n",
       "    }\n",
       "\n",
       "    .dataframe thead th {\n",
       "        text-align: right;\n",
       "    }\n",
       "</style>\n",
       "<table border=\"1\" class=\"dataframe\">\n",
       "  <thead>\n",
       "    <tr style=\"text-align: right;\">\n",
       "      <th></th>\n",
       "      <th>InpatientDays</th>\n",
       "      <th>ERVisits</th>\n",
       "      <th>OfficeVisits</th>\n",
       "      <th>Narcotics</th>\n",
       "      <th>DaysSinceLastERVisit</th>\n",
       "      <th>Pain</th>\n",
       "      <th>TotalVisits</th>\n",
       "      <th>ProviderCount</th>\n",
       "      <th>MedicalClaims</th>\n",
       "      <th>ClaimLines</th>\n",
       "      <th>StartedOnCombination</th>\n",
       "      <th>AcuteDrugGapSmall</th>\n",
       "      <th>PoorCare</th>\n",
       "    </tr>\n",
       "  </thead>\n",
       "  <tbody>\n",
       "    <tr>\n",
       "      <th>0</th>\n",
       "      <td>0</td>\n",
       "      <td>0</td>\n",
       "      <td>18</td>\n",
       "      <td>1</td>\n",
       "      <td>731.0</td>\n",
       "      <td>10</td>\n",
       "      <td>18</td>\n",
       "      <td>21</td>\n",
       "      <td>93</td>\n",
       "      <td>222</td>\n",
       "      <td>False</td>\n",
       "      <td>0</td>\n",
       "      <td>0</td>\n",
       "    </tr>\n",
       "    <tr>\n",
       "      <th>1</th>\n",
       "      <td>1</td>\n",
       "      <td>1</td>\n",
       "      <td>6</td>\n",
       "      <td>1</td>\n",
       "      <td>411.0</td>\n",
       "      <td>0</td>\n",
       "      <td>8</td>\n",
       "      <td>27</td>\n",
       "      <td>19</td>\n",
       "      <td>115</td>\n",
       "      <td>False</td>\n",
       "      <td>1</td>\n",
       "      <td>0</td>\n",
       "    </tr>\n",
       "    <tr>\n",
       "      <th>2</th>\n",
       "      <td>0</td>\n",
       "      <td>0</td>\n",
       "      <td>5</td>\n",
       "      <td>3</td>\n",
       "      <td>731.0</td>\n",
       "      <td>10</td>\n",
       "      <td>5</td>\n",
       "      <td>16</td>\n",
       "      <td>27</td>\n",
       "      <td>148</td>\n",
       "      <td>False</td>\n",
       "      <td>5</td>\n",
       "      <td>0</td>\n",
       "    </tr>\n",
       "    <tr>\n",
       "      <th>3</th>\n",
       "      <td>0</td>\n",
       "      <td>1</td>\n",
       "      <td>19</td>\n",
       "      <td>0</td>\n",
       "      <td>158.0</td>\n",
       "      <td>34</td>\n",
       "      <td>20</td>\n",
       "      <td>14</td>\n",
       "      <td>59</td>\n",
       "      <td>242</td>\n",
       "      <td>False</td>\n",
       "      <td>0</td>\n",
       "      <td>0</td>\n",
       "    </tr>\n",
       "    <tr>\n",
       "      <th>4</th>\n",
       "      <td>8</td>\n",
       "      <td>2</td>\n",
       "      <td>19</td>\n",
       "      <td>3</td>\n",
       "      <td>449.0</td>\n",
       "      <td>10</td>\n",
       "      <td>29</td>\n",
       "      <td>24</td>\n",
       "      <td>51</td>\n",
       "      <td>204</td>\n",
       "      <td>False</td>\n",
       "      <td>0</td>\n",
       "      <td>0</td>\n",
       "    </tr>\n",
       "  </tbody>\n",
       "</table>\n",
       "</div>"
      ],
      "text/plain": [
       "   InpatientDays  ERVisits  OfficeVisits  Narcotics  DaysSinceLastERVisit  \\\n",
       "0              0         0            18          1                 731.0   \n",
       "1              1         1             6          1                 411.0   \n",
       "2              0         0             5          3                 731.0   \n",
       "3              0         1            19          0                 158.0   \n",
       "4              8         2            19          3                 449.0   \n",
       "\n",
       "   Pain  TotalVisits  ProviderCount  MedicalClaims  ClaimLines  \\\n",
       "0    10           18             21             93         222   \n",
       "1     0            8             27             19         115   \n",
       "2    10            5             16             27         148   \n",
       "3    34           20             14             59         242   \n",
       "4    10           29             24             51         204   \n",
       "\n",
       "   StartedOnCombination  AcuteDrugGapSmall  PoorCare  \n",
       "0                 False                  0         0  \n",
       "1                 False                  1         0  \n",
       "2                 False                  5         0  \n",
       "3                 False                  0         0  \n",
       "4                 False                  0         0  "
      ]
     },
     "execution_count": 7,
     "metadata": {},
     "output_type": "execute_result"
    }
   ],
   "source": [
    "df.head() #shows head"
   ]
  },
  {
   "cell_type": "code",
   "execution_count": 8,
   "id": "bc42b710",
   "metadata": {},
   "outputs": [
    {
     "name": "stdout",
     "output_type": "stream",
     "text": [
      "<class 'pandas.core.frame.DataFrame'>\n",
      "RangeIndex: 131 entries, 0 to 130\n",
      "Data columns (total 13 columns):\n",
      " #   Column                Non-Null Count  Dtype  \n",
      "---  ------                --------------  -----  \n",
      " 0   InpatientDays         131 non-null    int64  \n",
      " 1   ERVisits              131 non-null    int64  \n",
      " 2   OfficeVisits          131 non-null    int64  \n",
      " 3   Narcotics             131 non-null    int64  \n",
      " 4   DaysSinceLastERVisit  131 non-null    float64\n",
      " 5   Pain                  131 non-null    int64  \n",
      " 6   TotalVisits           131 non-null    int64  \n",
      " 7   ProviderCount         131 non-null    int64  \n",
      " 8   MedicalClaims         131 non-null    int64  \n",
      " 9   ClaimLines            131 non-null    int64  \n",
      " 10  StartedOnCombination  131 non-null    bool   \n",
      " 11  AcuteDrugGapSmall     131 non-null    int64  \n",
      " 12  PoorCare              131 non-null    int64  \n",
      "dtypes: bool(1), float64(1), int64(11)\n",
      "memory usage: 12.5 KB\n"
     ]
    }
   ],
   "source": [
    "df.info()"
   ]
  },
  {
   "cell_type": "code",
   "execution_count": 9,
   "id": "62c015a2",
   "metadata": {},
   "outputs": [],
   "source": [
    "X = df.drop('PoorCare', axis = 1)"
   ]
  },
  {
   "cell_type": "code",
   "execution_count": 59,
   "id": "ccdf3d8f",
   "metadata": {},
   "outputs": [
    {
     "data": {
      "text/plain": [
       "0    98\n",
       "1    33\n",
       "Name: PoorCare, dtype: int64"
      ]
     },
     "execution_count": 59,
     "metadata": {},
     "output_type": "execute_result"
    }
   ],
   "source": [
    "df.PoorCare.value_counts()"
   ]
  },
  {
   "cell_type": "code",
   "execution_count": 10,
   "id": "8ced95e8",
   "metadata": {},
   "outputs": [],
   "source": [
    "y = df['PoorCare']"
   ]
  },
  {
   "cell_type": "code",
   "execution_count": 11,
   "id": "df88a742",
   "metadata": {},
   "outputs": [
    {
     "data": {
      "text/plain": [
       "(131, 12)"
      ]
     },
     "execution_count": 11,
     "metadata": {},
     "output_type": "execute_result"
    }
   ],
   "source": [
    "X.shape"
   ]
  },
  {
   "cell_type": "code",
   "execution_count": 12,
   "id": "96da2743",
   "metadata": {},
   "outputs": [
    {
     "data": {
      "text/plain": [
       "(131,)"
      ]
     },
     "execution_count": 12,
     "metadata": {},
     "output_type": "execute_result"
    }
   ],
   "source": [
    "y.shape"
   ]
  },
  {
   "cell_type": "code",
   "execution_count": 13,
   "id": "71614993",
   "metadata": {},
   "outputs": [],
   "source": [
    "X_train, X_test, y_train, y_test = train_test_split(X, y, test_size=0.3, random_state=42)"
   ]
  },
  {
   "cell_type": "markdown",
   "id": "12c68a01",
   "metadata": {},
   "source": [
    "# Logistic regression - F 1 0.85, 0.57, 0.79"
   ]
  },
  {
   "cell_type": "code",
   "execution_count": 14,
   "id": "7eb72455",
   "metadata": {},
   "outputs": [
    {
     "name": "stdout",
     "output_type": "stream",
     "text": [
      "              precision    recall  f1-score   support\n",
      "\n",
      "           0       0.89      0.81      0.85        31\n",
      "           1       0.50      0.67      0.57         9\n",
      "\n",
      "    accuracy                           0.78        40\n",
      "   macro avg       0.70      0.74      0.71        40\n",
      "weighted avg       0.80      0.78      0.79        40\n",
      "\n",
      "[[25  6]\n",
      " [ 3  6]]\n"
     ]
    }
   ],
   "source": [
    "lr_regressor = LogisticRegression()\n",
    "parameters = {\n",
    "    'class_weight':['balanced'],\n",
    "#       'penalty':['l1'],\n",
    "       'solver':['liblinear'],\n",
    "    'C': [0.1,0.13,0.15,0.17,0.19,0.2],\n",
    "#    'kernel':['poly', 'rbf', 'sigmoid'],\n",
    " #   'degree' : [1,2,3,4],\n",
    "     'max_iter':[10000]\n",
    "    \n",
    "}\n",
    "model = GridSearchCV(estimator =lr_regressor, param_grid = parameters, cv = 5, scoring = 'f1' )\n",
    "\n",
    "model_cv=model.fit(X_train,y_train)\n",
    "y_predict = model_cv.predict(X_test)\n",
    "\n",
    "print(classification_report(y_test,y_predict))\n",
    "print(confusion_matrix(y_test,y_predict))"
   ]
  },
  {
   "cell_type": "markdown",
   "id": "2be62262",
   "metadata": {},
   "source": [
    "# Lasso regression - F 1 0.85, 0.57, 0.79"
   ]
  },
  {
   "cell_type": "code",
   "execution_count": 16,
   "id": "5533ea62",
   "metadata": {},
   "outputs": [
    {
     "name": "stdout",
     "output_type": "stream",
     "text": [
      "              precision    recall  f1-score   support\n",
      "\n",
      "           0       0.89      0.81      0.85        31\n",
      "           1       0.50      0.67      0.57         9\n",
      "\n",
      "    accuracy                           0.78        40\n",
      "   macro avg       0.70      0.74      0.71        40\n",
      "weighted avg       0.80      0.78      0.79        40\n",
      "\n",
      "[[25  6]\n",
      " [ 3  6]]\n"
     ]
    }
   ],
   "source": [
    "lr_regressor = LogisticRegression()\n",
    "parameters = {\n",
    "    'class_weight':['balanced'],\n",
    "       'penalty':['l1'],\n",
    "       'solver':['liblinear'],\n",
    "    'C': [0.1,0.13,0.15,0.17,0.19,0.2],\n",
    "#    'kernel':['poly', 'rbf', 'sigmoid'],\n",
    " #   'degree' : [1,2,3,4],\n",
    "     'max_iter':[10000]\n",
    "    \n",
    "}\n",
    "model = GridSearchCV(estimator =lr_regressor, param_grid = parameters, cv = 5, scoring = 'f1' )\n",
    "\n",
    "model_cv=model.fit(X_train,y_train)\n",
    "y_predict = model_cv.predict(X_test)\n",
    "\n",
    "print(classification_report(y_test,y_predict))\n",
    "print(confusion_matrix(y_test,y_predict))"
   ]
  },
  {
   "cell_type": "markdown",
   "id": "a9df581c",
   "metadata": {},
   "source": [
    "# Ridge regression - F 1 0.89, 0.59, 0.82"
   ]
  },
  {
   "cell_type": "code",
   "execution_count": 17,
   "id": "bdf7df36",
   "metadata": {},
   "outputs": [
    {
     "name": "stdout",
     "output_type": "stream",
     "text": [
      "              precision    recall  f1-score   support\n",
      "\n",
      "           0       0.88      0.90      0.89        31\n",
      "           1       0.62      0.56      0.59         9\n",
      "\n",
      "    accuracy                           0.82        40\n",
      "   macro avg       0.75      0.73      0.74        40\n",
      "weighted avg       0.82      0.82      0.82        40\n",
      "\n",
      "[[28  3]\n",
      " [ 4  5]]\n"
     ]
    }
   ],
   "source": [
    "Ridge_classifier = RidgeClassifier()\n",
    "parameters = {\n",
    "    'class_weight':['balanced'],\n",
    "       #'penalty':['l1'],\n",
    "       #'solver':['liblinear'],\n",
    "    'alpha': [0.1,0.2,0.3,0.4,0.5,1,100,1000,10000],\n",
    "#    'kernel':['poly', 'rbf', 'sigmoid'],\n",
    " #   'degree' : [1,2,3,4],\n",
    "    # 'max_iter':[10000]\n",
    "    \n",
    "}\n",
    "model = GridSearchCV(estimator =Ridge_classifier, param_grid = parameters, cv = 5, scoring = 'recall' )\n",
    "\n",
    "model_cv=model.fit(X_train,y_train)\n",
    "y_predict = model_cv.predict(X_test)\n",
    "\n",
    "print(classification_report(y_test,y_predict))\n",
    "print(confusion_matrix(y_test,y_predict))"
   ]
  },
  {
   "cell_type": "code",
   "execution_count": 18,
   "id": "a935e313",
   "metadata": {},
   "outputs": [
    {
     "data": {
      "text/plain": [
       "{'alpha': 100, 'class_weight': 'balanced'}"
      ]
     },
     "execution_count": 18,
     "metadata": {},
     "output_type": "execute_result"
    }
   ],
   "source": [
    "model_cv.best_params_"
   ]
  },
  {
   "cell_type": "code",
   "execution_count": 19,
   "id": "a0cc7d70",
   "metadata": {},
   "outputs": [
    {
     "name": "stdout",
     "output_type": "stream",
     "text": [
      "              precision    recall  f1-score   support\n",
      "\n",
      "           0       0.88      0.90      0.89        31\n",
      "           1       0.62      0.56      0.59         9\n",
      "\n",
      "    accuracy                           0.82        40\n",
      "   macro avg       0.75      0.73      0.74        40\n",
      "weighted avg       0.82      0.82      0.82        40\n",
      "\n",
      "[[28  3]\n",
      " [ 4  5]]\n"
     ]
    }
   ],
   "source": [
    "Ridge_classifier = RidgeClassifier(alpha= 100, class_weight='balanced')\n",
    "model_cv=Ridge_classifier.fit(X_train,y_train)\n",
    "y_predict = model_cv.predict(X_test)\n",
    "\n",
    "print(classification_report(y_test,y_predict))\n",
    "print(confusion_matrix(y_test,y_predict))"
   ]
  },
  {
   "cell_type": "code",
   "execution_count": 20,
   "id": "34ade1c7",
   "metadata": {},
   "outputs": [
    {
     "data": {
      "text/plain": [
       "array([[ 0.01123713, -0.02771082,  0.02441546,  0.01833022, -0.00055829,\n",
       "        -0.00243307,  0.00794177,  0.01158075, -0.00448006, -0.00031407,\n",
       "         0.02617158,  0.04047104]])"
      ]
     },
     "execution_count": 20,
     "metadata": {},
     "output_type": "execute_result"
    }
   ],
   "source": [
    "model_cv.coef_"
   ]
  },
  {
   "cell_type": "code",
   "execution_count": 22,
   "id": "db9e2454",
   "metadata": {},
   "outputs": [],
   "source": [
    "scaler = StandardScaler()\n",
    "\n",
    "X_train_sc = scaler.fit_transform(X_train)\n",
    "X_train_sc = pd.DataFrame(X_train_sc, columns=X_train.columns)\n",
    "X_test_sc =  scaler.transform(X_test)\n",
    "X_test_sc = pd.DataFrame(X_test_sc, columns=X_test.columns)"
   ]
  },
  {
   "cell_type": "code",
   "execution_count": 23,
   "id": "524db036",
   "metadata": {},
   "outputs": [
    {
     "data": {
      "text/html": [
       "<div>\n",
       "<style scoped>\n",
       "    .dataframe tbody tr th:only-of-type {\n",
       "        vertical-align: middle;\n",
       "    }\n",
       "\n",
       "    .dataframe tbody tr th {\n",
       "        vertical-align: top;\n",
       "    }\n",
       "\n",
       "    .dataframe thead th {\n",
       "        text-align: right;\n",
       "    }\n",
       "</style>\n",
       "<table border=\"1\" class=\"dataframe\">\n",
       "  <thead>\n",
       "    <tr style=\"text-align: right;\">\n",
       "      <th></th>\n",
       "      <th>InpatientDays</th>\n",
       "      <th>ERVisits</th>\n",
       "      <th>OfficeVisits</th>\n",
       "      <th>Narcotics</th>\n",
       "      <th>DaysSinceLastERVisit</th>\n",
       "      <th>Pain</th>\n",
       "      <th>TotalVisits</th>\n",
       "      <th>ProviderCount</th>\n",
       "      <th>MedicalClaims</th>\n",
       "      <th>ClaimLines</th>\n",
       "      <th>StartedOnCombination</th>\n",
       "      <th>AcuteDrugGapSmall</th>\n",
       "    </tr>\n",
       "  </thead>\n",
       "  <tbody>\n",
       "    <tr>\n",
       "      <th>0</th>\n",
       "      <td>-0.520612</td>\n",
       "      <td>0.223183</td>\n",
       "      <td>-0.006424</td>\n",
       "      <td>-0.533803</td>\n",
       "      <td>-1.636634</td>\n",
       "      <td>-0.707464</td>\n",
       "      <td>-0.210441</td>\n",
       "      <td>-0.480294</td>\n",
       "      <td>-0.516896</td>\n",
       "      <td>-0.645228</td>\n",
       "      <td>-0.214423</td>\n",
       "      <td>-0.655418</td>\n",
       "    </tr>\n",
       "    <tr>\n",
       "      <th>1</th>\n",
       "      <td>-0.520612</td>\n",
       "      <td>-0.679468</td>\n",
       "      <td>1.396621</td>\n",
       "      <td>-0.533803</td>\n",
       "      <td>0.923461</td>\n",
       "      <td>-0.707464</td>\n",
       "      <td>0.625810</td>\n",
       "      <td>-0.976961</td>\n",
       "      <td>0.038023</td>\n",
       "      <td>-0.623138</td>\n",
       "      <td>-0.214423</td>\n",
       "      <td>-0.655418</td>\n",
       "    </tr>\n",
       "    <tr>\n",
       "      <th>2</th>\n",
       "      <td>-0.344494</td>\n",
       "      <td>-0.228142</td>\n",
       "      <td>0.578178</td>\n",
       "      <td>-0.104875</td>\n",
       "      <td>-0.555787</td>\n",
       "      <td>0.061648</td>\n",
       "      <td>0.207684</td>\n",
       "      <td>0.300184</td>\n",
       "      <td>1.147860</td>\n",
       "      <td>1.331846</td>\n",
       "      <td>-0.214423</td>\n",
       "      <td>-0.655418</td>\n",
       "    </tr>\n",
       "    <tr>\n",
       "      <th>3</th>\n",
       "      <td>0.359977</td>\n",
       "      <td>0.223183</td>\n",
       "      <td>-1.292549</td>\n",
       "      <td>-0.533803</td>\n",
       "      <td>-1.662456</td>\n",
       "      <td>-0.752706</td>\n",
       "      <td>-0.712192</td>\n",
       "      <td>-0.125531</td>\n",
       "      <td>-0.875960</td>\n",
       "      <td>-0.457462</td>\n",
       "      <td>-0.214423</td>\n",
       "      <td>-0.655418</td>\n",
       "    </tr>\n",
       "    <tr>\n",
       "      <th>4</th>\n",
       "      <td>1.240567</td>\n",
       "      <td>2.028484</td>\n",
       "      <td>0.812019</td>\n",
       "      <td>-0.426571</td>\n",
       "      <td>-1.216100</td>\n",
       "      <td>-0.345529</td>\n",
       "      <td>1.545686</td>\n",
       "      <td>1.364471</td>\n",
       "      <td>2.355623</td>\n",
       "      <td>1.751560</td>\n",
       "      <td>-0.214423</td>\n",
       "      <td>0.429001</td>\n",
       "    </tr>\n",
       "  </tbody>\n",
       "</table>\n",
       "</div>"
      ],
      "text/plain": [
       "   InpatientDays  ERVisits  OfficeVisits  Narcotics  DaysSinceLastERVisit  \\\n",
       "0      -0.520612  0.223183     -0.006424  -0.533803             -1.636634   \n",
       "1      -0.520612 -0.679468      1.396621  -0.533803              0.923461   \n",
       "2      -0.344494 -0.228142      0.578178  -0.104875             -0.555787   \n",
       "3       0.359977  0.223183     -1.292549  -0.533803             -1.662456   \n",
       "4       1.240567  2.028484      0.812019  -0.426571             -1.216100   \n",
       "\n",
       "       Pain  TotalVisits  ProviderCount  MedicalClaims  ClaimLines  \\\n",
       "0 -0.707464    -0.210441      -0.480294      -0.516896   -0.645228   \n",
       "1 -0.707464     0.625810      -0.976961       0.038023   -0.623138   \n",
       "2  0.061648     0.207684       0.300184       1.147860    1.331846   \n",
       "3 -0.752706    -0.712192      -0.125531      -0.875960   -0.457462   \n",
       "4 -0.345529     1.545686       1.364471       2.355623    1.751560   \n",
       "\n",
       "   StartedOnCombination  AcuteDrugGapSmall  \n",
       "0             -0.214423          -0.655418  \n",
       "1             -0.214423          -0.655418  \n",
       "2             -0.214423          -0.655418  \n",
       "3             -0.214423          -0.655418  \n",
       "4             -0.214423           0.429001  "
      ]
     },
     "execution_count": 23,
     "metadata": {},
     "output_type": "execute_result"
    }
   ],
   "source": [
    "X_train_sc.head()"
   ]
  },
  {
   "cell_type": "markdown",
   "id": "f64f75bd",
   "metadata": {},
   "source": [
    "# Lasso with scaled F1 - 0.87, 0.56, 0.80"
   ]
  },
  {
   "cell_type": "code",
   "execution_count": 24,
   "id": "b1a29fc6",
   "metadata": {},
   "outputs": [
    {
     "name": "stdout",
     "output_type": "stream",
     "text": [
      "              precision    recall  f1-score   support\n",
      "\n",
      "           0       0.87      0.87      0.87        31\n",
      "           1       0.56      0.56      0.56         9\n",
      "\n",
      "    accuracy                           0.80        40\n",
      "   macro avg       0.71      0.71      0.71        40\n",
      "weighted avg       0.80      0.80      0.80        40\n",
      "\n",
      "[[27  4]\n",
      " [ 4  5]]\n"
     ]
    }
   ],
   "source": [
    "lr_regressor = LogisticRegression()\n",
    "parameters = {\n",
    "    'class_weight':['balanced'],\n",
    "       'penalty':['l1'],\n",
    "       'solver':['liblinear'],\n",
    "    'C': [0.1,0.13,0.15,0.17,0.19,0.2],\n",
    "#    'kernel':['poly', 'rbf', 'sigmoid'],\n",
    " #   'degree' : [1,2,3,4],\n",
    "     'max_iter':[10000]\n",
    "    \n",
    "}\n",
    "model = GridSearchCV(estimator =lr_regressor, param_grid = parameters, cv = 5, scoring = 'f1' )\n",
    "\n",
    "model_cv=model.fit(X_train_sc,y_train)\n",
    "y_predict = model_cv.predict(X_test_sc)\n",
    "\n",
    "print(classification_report(y_test,y_predict))\n",
    "print(confusion_matrix(y_test,y_predict))"
   ]
  },
  {
   "cell_type": "markdown",
   "id": "ffad4f4a",
   "metadata": {},
   "source": [
    "# Logistic with scaled - F1 0.89 , 0.59, 0.82"
   ]
  },
  {
   "cell_type": "code",
   "execution_count": 25,
   "id": "9776f5e9",
   "metadata": {},
   "outputs": [
    {
     "name": "stdout",
     "output_type": "stream",
     "text": [
      "              precision    recall  f1-score   support\n",
      "\n",
      "           0       0.88      0.90      0.89        31\n",
      "           1       0.62      0.56      0.59         9\n",
      "\n",
      "    accuracy                           0.82        40\n",
      "   macro avg       0.75      0.73      0.74        40\n",
      "weighted avg       0.82      0.82      0.82        40\n",
      "\n",
      "[[28  3]\n",
      " [ 4  5]]\n"
     ]
    }
   ],
   "source": [
    "lr_regressor = LogisticRegression()\n",
    "parameters = {\n",
    "    'class_weight':['balanced'],\n",
    "#       'penalty':['l1'],\n",
    "       'solver':['liblinear'],\n",
    "    'C': [0.1,0.13,0.15,0.17,0.19,0.2],\n",
    "#    'kernel':['poly', 'rbf', 'sigmoid'],\n",
    " #   'degree' : [1,2,3,4],\n",
    "     'max_iter':[10000]\n",
    "    \n",
    "}\n",
    "model = GridSearchCV(estimator =lr_regressor, param_grid = parameters, cv = 5, scoring = 'f1' )\n",
    "\n",
    "model_cv=model.fit(X_train_sc,y_train)\n",
    "y_predict = model_cv.predict(X_test_sc)\n",
    "\n",
    "print(classification_report(y_test,y_predict))\n",
    "print(confusion_matrix(y_test,y_predict))"
   ]
  },
  {
   "cell_type": "markdown",
   "id": "28253955",
   "metadata": {},
   "source": [
    "# ===============================================\n",
    "# Trying Random forest. but did not give best results\n",
    "#### F1 0.81, 0.33, 0.7"
   ]
  },
  {
   "cell_type": "code",
   "execution_count": 38,
   "id": "bd9b6c57",
   "metadata": {},
   "outputs": [
    {
     "name": "stdout",
     "output_type": "stream",
     "text": [
      "              precision    recall  f1-score   support\n",
      "\n",
      "           0       0.82      0.87      0.84        31\n",
      "           1       0.43      0.33      0.38         9\n",
      "\n",
      "    accuracy                           0.75        40\n",
      "   macro avg       0.62      0.60      0.61        40\n",
      "weighted avg       0.73      0.75      0.74        40\n",
      "\n",
      "[[27  4]\n",
      " [ 6  3]]\n",
      "RandomForestClassifier(class_weight='balanced', criterion='entropy',\n",
      "                       min_samples_leaf=8, n_estimators=10)\n"
     ]
    }
   ],
   "source": [
    "random_forest_classifier = RandomForestClassifier()\n",
    "\n",
    "\n",
    "parameters = {\n",
    "    'class_weight':['balanced'],\n",
    "#    'n_estimators': [100,200,500,1000],\n",
    "    'n_estimators': [5,10,15,30],    \n",
    "    'criterion':['gini', 'entropy'],\n",
    "#    'min_samples_leaf' : [5,10,20,50]\n",
    "    'min_samples_leaf' : [7,8,10,15,20]\n",
    "    \n",
    "}\n",
    "model = GridSearchCV(estimator =random_forest_classifier,param_grid = parameters, cv = 5, scoring = 'f1' )\n",
    "model_cv=model.fit(X_train_sc,y_train)\n",
    "y_predict = model_cv.predict(X_test_sc)\n",
    "#print(\"C is :\", i/10)\n",
    "    #print(model.coef_)\n",
    "print(classification_report(y_test,y_predict))\n",
    "print(confusion_matrix(y_test,y_predict))\n",
    "print(model.best_estimator_)"
   ]
  },
  {
   "cell_type": "markdown",
   "id": "0fd15672",
   "metadata": {},
   "source": [
    "# Ridge with scaled - f1- 0.91, 0.63, 0.84 - best score"
   ]
  },
  {
   "cell_type": "code",
   "execution_count": 51,
   "id": "59c33346",
   "metadata": {},
   "outputs": [
    {
     "name": "stdout",
     "output_type": "stream",
     "text": [
      "              precision    recall  f1-score   support\n",
      "\n",
      "           0       0.88      0.94      0.91        31\n",
      "           1       0.71      0.56      0.63         9\n",
      "\n",
      "    accuracy                           0.85        40\n",
      "   macro avg       0.80      0.75      0.77        40\n",
      "weighted avg       0.84      0.85      0.84        40\n",
      "\n",
      "[[29  2]\n",
      " [ 4  5]]\n"
     ]
    },
    {
     "data": {
      "text/plain": [
       "{'alpha': 100, 'class_weight': 'balanced'}"
      ]
     },
     "execution_count": 51,
     "metadata": {},
     "output_type": "execute_result"
    }
   ],
   "source": [
    "# higher alphas specify stronger regularization\n",
    "Ridge_classifier = RidgeClassifier()\n",
    "parameters = {\n",
    "    'class_weight':['balanced'],\n",
    "       #'penalty':['l1'],\n",
    "       #'solver':['liblinear'],\n",
    "    'alpha': [0.1,0.2,0.3,0.4,0.5,1,100,200,1000,10000],\n",
    "#    'kernel':['poly', 'rbf', 'sigmoid'],\n",
    " #   'degree' : [1,2,3,4],\n",
    "    # 'max_iter':[10000]\n",
    "    \n",
    "}\n",
    "model = GridSearchCV(estimator =Ridge_classifier, param_grid = parameters, cv = 5, scoring = 'recall' )\n",
    "\n",
    "model_cv=model.fit(X_train_sc,y_train)\n",
    "y_predict = model_cv.predict(X_test_sc)\n",
    "\n",
    "print(classification_report(y_test,y_predict))\n",
    "print(confusion_matrix(y_test,y_predict))\n",
    "model_cv.best_params_"
   ]
  },
  {
   "cell_type": "code",
   "execution_count": 27,
   "id": "1dba381f",
   "metadata": {},
   "outputs": [
    {
     "name": "stdout",
     "output_type": "stream",
     "text": [
      "              precision    recall  f1-score   support\n",
      "\n",
      "           0       0.88      0.94      0.91        31\n",
      "           1       0.71      0.56      0.63         9\n",
      "\n",
      "    accuracy                           0.85        40\n",
      "   macro avg       0.80      0.75      0.77        40\n",
      "weighted avg       0.84      0.85      0.84        40\n",
      "\n",
      "[[29  2]\n",
      " [ 4  5]]\n"
     ]
    }
   ],
   "source": [
    "Ridge_classifier = RidgeClassifier(alpha= 100, class_weight='balanced')\n",
    "model_cv=Ridge_classifier.fit(X_train_sc,y_train)\n",
    "y_predict = model_cv.predict(X_test_sc)\n",
    "\n",
    "print(classification_report(y_test,y_predict))\n",
    "print(confusion_matrix(y_test,y_predict))"
   ]
  },
  {
   "cell_type": "code",
   "execution_count": 28,
   "id": "8fff5e6b",
   "metadata": {},
   "outputs": [
    {
     "data": {
      "text/plain": [
       "0.6870229007633588"
      ]
     },
     "execution_count": 28,
     "metadata": {},
     "output_type": "execute_result"
    }
   ],
   "source": [
    "model_cv.score(X,y) #shows the R-square "
   ]
  },
  {
   "cell_type": "code",
   "execution_count": 29,
   "id": "259bad5b",
   "metadata": {},
   "outputs": [
    {
     "data": {
      "text/plain": [
       "array([[ 0.00957927,  0.01127011,  0.09943135,  0.111898  , -0.04317481,\n",
       "        -0.00049933,  0.07775305,  0.06636425, -0.01165226,  0.00402274,\n",
       "         0.07531107,  0.10858788]])"
      ]
     },
     "execution_count": 29,
     "metadata": {},
     "output_type": "execute_result"
    }
   ],
   "source": [
    "model_cv.coef_ #shows the coeffecient of all the variable"
   ]
  },
  {
   "cell_type": "code",
   "execution_count": 30,
   "id": "7787b3d9",
   "metadata": {},
   "outputs": [
    {
     "data": {
      "text/plain": [
       "Index(['InpatientDays', 'ERVisits', 'OfficeVisits', 'Narcotics',\n",
       "       'DaysSinceLastERVisit', 'Pain', 'TotalVisits', 'ProviderCount',\n",
       "       'MedicalClaims', 'ClaimLines', 'StartedOnCombination',\n",
       "       'AcuteDrugGapSmall'],\n",
       "      dtype='object')"
      ]
     },
     "execution_count": 30,
     "metadata": {},
     "output_type": "execute_result"
    }
   ],
   "source": [
    "X.columns #shows the columns "
   ]
  },
  {
   "cell_type": "code",
   "execution_count": 31,
   "id": "03d1675b",
   "metadata": {},
   "outputs": [],
   "source": [
    "#Imp positive columns - ERVisits, OfficeVisits, Narcotics, TotalVisits, "
   ]
  },
  {
   "cell_type": "code",
   "execution_count": 32,
   "id": "47e9da0c",
   "metadata": {},
   "outputs": [
    {
     "data": {
      "text/html": [
       "<div>\n",
       "<style scoped>\n",
       "    .dataframe tbody tr th:only-of-type {\n",
       "        vertical-align: middle;\n",
       "    }\n",
       "\n",
       "    .dataframe tbody tr th {\n",
       "        vertical-align: top;\n",
       "    }\n",
       "\n",
       "    .dataframe thead th {\n",
       "        text-align: right;\n",
       "    }\n",
       "</style>\n",
       "<table border=\"1\" class=\"dataframe\">\n",
       "  <thead>\n",
       "    <tr style=\"text-align: right;\">\n",
       "      <th></th>\n",
       "      <th>0</th>\n",
       "    </tr>\n",
       "  </thead>\n",
       "  <tbody>\n",
       "    <tr>\n",
       "      <th>InpatientDays</th>\n",
       "      <td>0.009579</td>\n",
       "    </tr>\n",
       "    <tr>\n",
       "      <th>ERVisits</th>\n",
       "      <td>0.011270</td>\n",
       "    </tr>\n",
       "    <tr>\n",
       "      <th>OfficeVisits</th>\n",
       "      <td>0.099431</td>\n",
       "    </tr>\n",
       "    <tr>\n",
       "      <th>Narcotics</th>\n",
       "      <td>0.111898</td>\n",
       "    </tr>\n",
       "    <tr>\n",
       "      <th>DaysSinceLastERVisit</th>\n",
       "      <td>-0.043175</td>\n",
       "    </tr>\n",
       "    <tr>\n",
       "      <th>Pain</th>\n",
       "      <td>-0.000499</td>\n",
       "    </tr>\n",
       "    <tr>\n",
       "      <th>TotalVisits</th>\n",
       "      <td>0.077753</td>\n",
       "    </tr>\n",
       "    <tr>\n",
       "      <th>ProviderCount</th>\n",
       "      <td>0.066364</td>\n",
       "    </tr>\n",
       "    <tr>\n",
       "      <th>MedicalClaims</th>\n",
       "      <td>-0.011652</td>\n",
       "    </tr>\n",
       "    <tr>\n",
       "      <th>ClaimLines</th>\n",
       "      <td>0.004023</td>\n",
       "    </tr>\n",
       "    <tr>\n",
       "      <th>StartedOnCombination</th>\n",
       "      <td>0.075311</td>\n",
       "    </tr>\n",
       "    <tr>\n",
       "      <th>AcuteDrugGapSmall</th>\n",
       "      <td>0.108588</td>\n",
       "    </tr>\n",
       "  </tbody>\n",
       "</table>\n",
       "</div>"
      ],
      "text/plain": [
       "                             0\n",
       "InpatientDays         0.009579\n",
       "ERVisits              0.011270\n",
       "OfficeVisits          0.099431\n",
       "Narcotics             0.111898\n",
       "DaysSinceLastERVisit -0.043175\n",
       "Pain                 -0.000499\n",
       "TotalVisits           0.077753\n",
       "ProviderCount         0.066364\n",
       "MedicalClaims        -0.011652\n",
       "ClaimLines            0.004023\n",
       "StartedOnCombination  0.075311\n",
       "AcuteDrugGapSmall     0.108588"
      ]
     },
     "execution_count": 32,
     "metadata": {},
     "output_type": "execute_result"
    }
   ],
   "source": [
    "dftemp = pd.DataFrame(model_cv.coef_)\n",
    "dftemp.columns =['InpatientDays', 'ERVisits', 'OfficeVisits', 'Narcotics',\n",
    "       'DaysSinceLastERVisit', 'Pain', 'TotalVisits', 'ProviderCount',\n",
    "       'MedicalClaims', 'ClaimLines', 'StartedOnCombination',\n",
    "       'AcuteDrugGapSmall']\n",
    "dftemp = dftemp.T\n",
    "dftemp"
   ]
  },
  {
   "cell_type": "code",
   "execution_count": 33,
   "id": "ef171365",
   "metadata": {},
   "outputs": [],
   "source": [
    "dftemp = dftemp.sort_values(by = 0,axis=0)"
   ]
  },
  {
   "cell_type": "code",
   "execution_count": 34,
   "id": "82c01aa7",
   "metadata": {},
   "outputs": [
    {
     "data": {
      "text/plain": [
       "Index(['DaysSinceLastERVisit', 'MedicalClaims', 'Pain', 'ClaimLines',\n",
       "       'InpatientDays', 'ERVisits', 'ProviderCount', 'StartedOnCombination',\n",
       "       'TotalVisits', 'OfficeVisits', 'AcuteDrugGapSmall', 'Narcotics'],\n",
       "      dtype='object')"
      ]
     },
     "execution_count": 34,
     "metadata": {},
     "output_type": "execute_result"
    }
   ],
   "source": [
    "dftemp.index"
   ]
  },
  {
   "cell_type": "code",
   "execution_count": 58,
   "id": "d7c6ff6f",
   "metadata": {},
   "outputs": [
    {
     "data": {
      "image/png": "[encoded data removed]",
      "text/plain": [
       "<Figure size 432x288 with 1 Axes>"
      ]
     },
     "metadata": {
      "needs_background": "light"
     },
     "output_type": "display_data"
    }
   ],
   "source": [
    "#dftemp.plot.bar()\n",
    "plt.bar(dftemp.index,\n",
    "        color='red', height = dftemp[0], alpha = 0.6)\n",
    "plt.xticks( rotation=80)\n",
    "plt.show()"
   ]
  },
  {
   "cell_type": "markdown",
   "id": "2ccab2e4",
   "metadata": {},
   "source": [
    "# Conclusion\n",
    "---Y column is Poor care. Therefore, higher the value, bad it is for the business\n",
    "---Therefore, Provider Count, Started on Combination, Total Visits, Office Visits, Acute Drug Gap, Narcotics features add to the Poor Care outcome\n",
    "Days since last ER Visit and Medical Claims better the experience for customers"
   ]
  },
  {
   "cell_type": "code",
   "execution_count": null,
   "id": "3b2f532e",
   "metadata": {},
   "outputs": [],
   "source": []
  }
 ],
 "metadata": {
  "kernelspec": {
   "display_name": "Python 3",
   "language": "python",
   "name": "python3"
  },
  "language_info": {
   "codemirror_mode": {
    "name": "ipython",
    "version": 3
   },
   "file_extension": ".py",
   "mimetype": "text/x-python",
   "name": "python",
   "nbconvert_exporter": "python",
   "pygments_lexer": "ipython3",
   "version": "3.8.8"
  }
 },
 "nbformat": 4,
 "nbformat_minor": 5
}
